{
 "cells": [
  {
   "cell_type": "code",
   "execution_count": 1,
   "id": "bf92604b",
   "metadata": {},
   "outputs": [],
   "source": [
    "import pandas as pd\n",
    "import numpy as np"
   ]
  },
  {
   "cell_type": "code",
   "execution_count": 2,
   "id": "e140dab1",
   "metadata": {},
   "outputs": [],
   "source": [
    "df = pd.read_csv('kaggle_bot_accounts.csv')"
   ]
  },
  {
   "cell_type": "code",
   "execution_count": 3,
   "id": "f4b751a1",
   "metadata": {},
   "outputs": [
    {
     "data": {
      "text/html": [
       "<div>\n",
       "<style scoped>\n",
       "    .dataframe tbody tr th:only-of-type {\n",
       "        vertical-align: middle;\n",
       "    }\n",
       "\n",
       "    .dataframe tbody tr th {\n",
       "        vertical-align: top;\n",
       "    }\n",
       "\n",
       "    .dataframe thead th {\n",
       "        text-align: right;\n",
       "    }\n",
       "</style>\n",
       "<table border=\"1\" class=\"dataframe\">\n",
       "  <thead>\n",
       "    <tr style=\"text-align: right;\">\n",
       "      <th></th>\n",
       "      <th>Unnamed: 0</th>\n",
       "      <th>NAME</th>\n",
       "      <th>GENDER</th>\n",
       "      <th>EMAIL_ID</th>\n",
       "      <th>IS_GLOGIN</th>\n",
       "      <th>FOLLOWER_COUNT</th>\n",
       "      <th>FOLLOWING_COUNT</th>\n",
       "      <th>DATASET_COUNT</th>\n",
       "      <th>CODE_COUNT</th>\n",
       "      <th>DISCUSSION_COUNT</th>\n",
       "      <th>AVG_NB_READ_TIME_MIN</th>\n",
       "      <th>REGISTRATION_IPV4</th>\n",
       "      <th>REGISTRATION_LOCATION</th>\n",
       "      <th>TOTAL_VOTES_GAVE_NB</th>\n",
       "      <th>TOTAL_VOTES_GAVE_DS</th>\n",
       "      <th>TOTAL_VOTES_GAVE_DC</th>\n",
       "      <th>ISBOT</th>\n",
       "    </tr>\n",
       "  </thead>\n",
       "  <tbody>\n",
       "    <tr>\n",
       "      <th>0</th>\n",
       "      <td>0</td>\n",
       "      <td>Johnny KerrThomas</td>\n",
       "      <td>Male</td>\n",
       "      <td>jacksonalan@example.com</td>\n",
       "      <td>False</td>\n",
       "      <td>53.0</td>\n",
       "      <td>87.0</td>\n",
       "      <td>5.0</td>\n",
       "      <td>3.0</td>\n",
       "      <td>124.0</td>\n",
       "      <td>NaN</td>\n",
       "      <td>81.88.75.170</td>\n",
       "      <td>Argentina</td>\n",
       "      <td>16.0</td>\n",
       "      <td>10.0</td>\n",
       "      <td>3.0</td>\n",
       "      <td>NaN</td>\n",
       "    </tr>\n",
       "    <tr>\n",
       "      <th>1</th>\n",
       "      <td>1</td>\n",
       "      <td>Dwayne LarsenLara</td>\n",
       "      <td>Male</td>\n",
       "      <td>calvin80@example.com</td>\n",
       "      <td>True</td>\n",
       "      <td>16.0</td>\n",
       "      <td>67.0</td>\n",
       "      <td>5.0</td>\n",
       "      <td>NaN</td>\n",
       "      <td>26.0</td>\n",
       "      <td>24.97</td>\n",
       "      <td>NaN</td>\n",
       "      <td>New Zealand</td>\n",
       "      <td>14.0</td>\n",
       "      <td>5.0</td>\n",
       "      <td>2.0</td>\n",
       "      <td>NaN</td>\n",
       "    </tr>\n",
       "    <tr>\n",
       "      <th>2</th>\n",
       "      <td>2</td>\n",
       "      <td>NaN</td>\n",
       "      <td>Male</td>\n",
       "      <td>qbrown@example.net</td>\n",
       "      <td>True</td>\n",
       "      <td>44.0</td>\n",
       "      <td>81.0</td>\n",
       "      <td>4.0</td>\n",
       "      <td>17.0</td>\n",
       "      <td>125.0</td>\n",
       "      <td>7.75</td>\n",
       "      <td>159.202.103.178</td>\n",
       "      <td>Costa Rica</td>\n",
       "      <td>16.0</td>\n",
       "      <td>4.0</td>\n",
       "      <td>0.0</td>\n",
       "      <td>False</td>\n",
       "    </tr>\n",
       "    <tr>\n",
       "      <th>3</th>\n",
       "      <td>3</td>\n",
       "      <td>Russell SimmonsPhillips</td>\n",
       "      <td>Male</td>\n",
       "      <td>kimberlywagner@example.com</td>\n",
       "      <td>True</td>\n",
       "      <td>23.0</td>\n",
       "      <td>114.0</td>\n",
       "      <td>5.0</td>\n",
       "      <td>24.0</td>\n",
       "      <td>67.0</td>\n",
       "      <td>13.40</td>\n",
       "      <td>196.11.132.51</td>\n",
       "      <td>Italy</td>\n",
       "      <td>21.0</td>\n",
       "      <td>10.0</td>\n",
       "      <td>1.0</td>\n",
       "      <td>False</td>\n",
       "    </tr>\n",
       "    <tr>\n",
       "      <th>4</th>\n",
       "      <td>4</td>\n",
       "      <td>Jamie WilsonMartinez</td>\n",
       "      <td>Female</td>\n",
       "      <td>shaunbrooks@example.com</td>\n",
       "      <td>False</td>\n",
       "      <td>46.0</td>\n",
       "      <td>112.0</td>\n",
       "      <td>2.0</td>\n",
       "      <td>12.0</td>\n",
       "      <td>63.0</td>\n",
       "      <td>24.83</td>\n",
       "      <td>159.196.199.20</td>\n",
       "      <td>Belgium</td>\n",
       "      <td>10.0</td>\n",
       "      <td>6.0</td>\n",
       "      <td>2.0</td>\n",
       "      <td>False</td>\n",
       "    </tr>\n",
       "  </tbody>\n",
       "</table>\n",
       "</div>"
      ],
      "text/plain": [
       "   Unnamed: 0                     NAME  GENDER                    EMAIL_ID  \\\n",
       "0           0        Johnny KerrThomas    Male     jacksonalan@example.com   \n",
       "1           1        Dwayne LarsenLara    Male        calvin80@example.com   \n",
       "2           2                      NaN    Male          qbrown@example.net   \n",
       "3           3  Russell SimmonsPhillips    Male  kimberlywagner@example.com   \n",
       "4           4     Jamie WilsonMartinez  Female     shaunbrooks@example.com   \n",
       "\n",
       "  IS_GLOGIN  FOLLOWER_COUNT  FOLLOWING_COUNT  DATASET_COUNT  CODE_COUNT  \\\n",
       "0     False            53.0             87.0            5.0         3.0   \n",
       "1      True            16.0             67.0            5.0         NaN   \n",
       "2      True            44.0             81.0            4.0        17.0   \n",
       "3      True            23.0            114.0            5.0        24.0   \n",
       "4     False            46.0            112.0            2.0        12.0   \n",
       "\n",
       "   DISCUSSION_COUNT  AVG_NB_READ_TIME_MIN REGISTRATION_IPV4  \\\n",
       "0             124.0                   NaN      81.88.75.170   \n",
       "1              26.0                 24.97               NaN   \n",
       "2             125.0                  7.75   159.202.103.178   \n",
       "3              67.0                 13.40     196.11.132.51   \n",
       "4              63.0                 24.83    159.196.199.20   \n",
       "\n",
       "  REGISTRATION_LOCATION  TOTAL_VOTES_GAVE_NB  TOTAL_VOTES_GAVE_DS  \\\n",
       "0             Argentina                 16.0                 10.0   \n",
       "1           New Zealand                 14.0                  5.0   \n",
       "2            Costa Rica                 16.0                  4.0   \n",
       "3                 Italy                 21.0                 10.0   \n",
       "4               Belgium                 10.0                  6.0   \n",
       "\n",
       "   TOTAL_VOTES_GAVE_DC  ISBOT  \n",
       "0                  3.0    NaN  \n",
       "1                  2.0    NaN  \n",
       "2                  0.0  False  \n",
       "3                  1.0  False  \n",
       "4                  2.0  False  "
      ]
     },
     "execution_count": 3,
     "metadata": {},
     "output_type": "execute_result"
    }
   ],
   "source": [
    "df.head()"
   ]
  },
  {
   "cell_type": "code",
   "execution_count": 4,
   "id": "647f13b8",
   "metadata": {},
   "outputs": [
    {
     "data": {
      "text/plain": [
       "Index(['Unnamed: 0', 'NAME', 'GENDER', 'EMAIL_ID', 'IS_GLOGIN',\n",
       "       'FOLLOWER_COUNT', 'FOLLOWING_COUNT', 'DATASET_COUNT', 'CODE_COUNT',\n",
       "       'DISCUSSION_COUNT', 'AVG_NB_READ_TIME_MIN', 'REGISTRATION_IPV4',\n",
       "       'REGISTRATION_LOCATION', 'TOTAL_VOTES_GAVE_NB', 'TOTAL_VOTES_GAVE_DS',\n",
       "       'TOTAL_VOTES_GAVE_DC', 'ISBOT'],\n",
       "      dtype='object')"
      ]
     },
     "execution_count": 4,
     "metadata": {},
     "output_type": "execute_result"
    }
   ],
   "source": [
    "df.columns"
   ]
  },
  {
   "cell_type": "markdown",
   "id": "8d976dc6",
   "metadata": {},
   "source": [
    "### Check missing values"
   ]
  },
  {
   "cell_type": "code",
   "execution_count": 5,
   "id": "57141b43",
   "metadata": {},
   "outputs": [
    {
     "data": {
      "text/plain": [
       "Unnamed: 0                   0\n",
       "NAME                     78164\n",
       "GENDER                   77879\n",
       "EMAIL_ID                 77814\n",
       "IS_GLOGIN                77916\n",
       "FOLLOWER_COUNT           77712\n",
       "FOLLOWING_COUNT          78445\n",
       "DATASET_COUNT            78567\n",
       "CODE_COUNT               77926\n",
       "DISCUSSION_COUNT         77722\n",
       "AVG_NB_READ_TIME_MIN     78316\n",
       "REGISTRATION_IPV4        78329\n",
       "REGISTRATION_LOCATION    78290\n",
       "TOTAL_VOTES_GAVE_NB      77705\n",
       "TOTAL_VOTES_GAVE_DS      77934\n",
       "TOTAL_VOTES_GAVE_DC      78030\n",
       "ISBOT                    78500\n",
       "dtype: int64"
      ]
     },
     "execution_count": 5,
     "metadata": {},
     "output_type": "execute_result"
    }
   ],
   "source": [
    "df.isnull().sum()"
   ]
  },
  {
   "cell_type": "code",
   "execution_count": 6,
   "id": "834d53af",
   "metadata": {},
   "outputs": [
    {
     "data": {
      "text/plain": [
       "1249249"
      ]
     },
     "execution_count": 6,
     "metadata": {},
     "output_type": "execute_result"
    }
   ],
   "source": [
    "df.isnull().sum().sum()"
   ]
  },
  {
   "cell_type": "code",
   "execution_count": 7,
   "id": "dd00cad7",
   "metadata": {},
   "outputs": [
    {
     "data": {
      "text/plain": [
       "(1321188, 17)"
      ]
     },
     "execution_count": 7,
     "metadata": {},
     "output_type": "execute_result"
    }
   ],
   "source": [
    "df.shape"
   ]
  },
  {
   "cell_type": "markdown",
   "id": "73b165cb",
   "metadata": {},
   "source": [
    "### Handling Missing Data"
   ]
  },
  {
   "cell_type": "code",
   "execution_count": 8,
   "id": "b056d062",
   "metadata": {},
   "outputs": [],
   "source": [
    "df = df.dropna()"
   ]
  },
  {
   "cell_type": "code",
   "execution_count": 9,
   "id": "5c23497d",
   "metadata": {},
   "outputs": [
    {
     "data": {
      "text/plain": [
       "Unnamed: 0               0\n",
       "NAME                     0\n",
       "GENDER                   0\n",
       "EMAIL_ID                 0\n",
       "IS_GLOGIN                0\n",
       "FOLLOWER_COUNT           0\n",
       "FOLLOWING_COUNT          0\n",
       "DATASET_COUNT            0\n",
       "CODE_COUNT               0\n",
       "DISCUSSION_COUNT         0\n",
       "AVG_NB_READ_TIME_MIN     0\n",
       "REGISTRATION_IPV4        0\n",
       "REGISTRATION_LOCATION    0\n",
       "TOTAL_VOTES_GAVE_NB      0\n",
       "TOTAL_VOTES_GAVE_DS      0\n",
       "TOTAL_VOTES_GAVE_DC      0\n",
       "ISBOT                    0\n",
       "dtype: int64"
      ]
     },
     "execution_count": 9,
     "metadata": {},
     "output_type": "execute_result"
    }
   ],
   "source": [
    "df.isnull().sum()"
   ]
  },
  {
   "cell_type": "markdown",
   "id": "e2598205",
   "metadata": {},
   "source": [
    "### Data Analyses"
   ]
  },
  {
   "cell_type": "code",
   "execution_count": 10,
   "id": "ba202c2a",
   "metadata": {},
   "outputs": [
    {
     "name": "stdout",
     "output_type": "stream",
     "text": [
      "<class 'pandas.core.frame.DataFrame'>\n",
      "Int64Index: 498987 entries, 3 to 1321185\n",
      "Data columns (total 17 columns):\n",
      " #   Column                 Non-Null Count   Dtype  \n",
      "---  ------                 --------------   -----  \n",
      " 0   Unnamed: 0             498987 non-null  int64  \n",
      " 1   NAME                   498987 non-null  object \n",
      " 2   GENDER                 498987 non-null  object \n",
      " 3   EMAIL_ID               498987 non-null  object \n",
      " 4   IS_GLOGIN              498987 non-null  object \n",
      " 5   FOLLOWER_COUNT         498987 non-null  float64\n",
      " 6   FOLLOWING_COUNT        498987 non-null  float64\n",
      " 7   DATASET_COUNT          498987 non-null  float64\n",
      " 8   CODE_COUNT             498987 non-null  float64\n",
      " 9   DISCUSSION_COUNT       498987 non-null  float64\n",
      " 10  AVG_NB_READ_TIME_MIN   498987 non-null  float64\n",
      " 11  REGISTRATION_IPV4      498987 non-null  object \n",
      " 12  REGISTRATION_LOCATION  498987 non-null  object \n",
      " 13  TOTAL_VOTES_GAVE_NB    498987 non-null  float64\n",
      " 14  TOTAL_VOTES_GAVE_DS    498987 non-null  float64\n",
      " 15  TOTAL_VOTES_GAVE_DC    498987 non-null  float64\n",
      " 16  ISBOT                  498987 non-null  object \n",
      "dtypes: float64(9), int64(1), object(7)\n",
      "memory usage: 68.5+ MB\n"
     ]
    }
   ],
   "source": [
    "df.info()"
   ]
  },
  {
   "cell_type": "code",
   "execution_count": 11,
   "id": "f798fcbc",
   "metadata": {},
   "outputs": [],
   "source": [
    "df.drop('Unnamed: 0', axis = 1, inplace = True)"
   ]
  },
  {
   "cell_type": "code",
   "execution_count": 12,
   "id": "d2125e57",
   "metadata": {},
   "outputs": [
    {
     "data": {
      "text/plain": [
       "Index(['NAME', 'GENDER', 'EMAIL_ID', 'IS_GLOGIN', 'FOLLOWER_COUNT',\n",
       "       'FOLLOWING_COUNT', 'DATASET_COUNT', 'CODE_COUNT', 'DISCUSSION_COUNT',\n",
       "       'AVG_NB_READ_TIME_MIN', 'REGISTRATION_IPV4', 'REGISTRATION_LOCATION',\n",
       "       'TOTAL_VOTES_GAVE_NB', 'TOTAL_VOTES_GAVE_DS', 'TOTAL_VOTES_GAVE_DC',\n",
       "       'ISBOT'],\n",
       "      dtype='object')"
      ]
     },
     "execution_count": 12,
     "metadata": {},
     "output_type": "execute_result"
    }
   ],
   "source": [
    "df.columns"
   ]
  },
  {
   "cell_type": "code",
   "execution_count": 13,
   "id": "18d78bf8",
   "metadata": {},
   "outputs": [
    {
     "data": {
      "text/plain": [
       "0    1.0\n",
       "Name: FOLLOWER_COUNT, dtype: float64"
      ]
     },
     "execution_count": 13,
     "metadata": {},
     "output_type": "execute_result"
    }
   ],
   "source": [
    "df['FOLLOWER_COUNT'].mode()"
   ]
  },
  {
   "cell_type": "code",
   "execution_count": 14,
   "id": "4b052a4c",
   "metadata": {},
   "outputs": [
    {
     "data": {
      "text/plain": [
       "70.0"
      ]
     },
     "execution_count": 14,
     "metadata": {},
     "output_type": "execute_result"
    }
   ],
   "source": [
    "df['FOLLOWER_COUNT'].max()"
   ]
  },
  {
   "cell_type": "code",
   "execution_count": 15,
   "id": "d38035e0",
   "metadata": {},
   "outputs": [
    {
     "data": {
      "text/plain": [
       "0.0"
      ]
     },
     "execution_count": 15,
     "metadata": {},
     "output_type": "execute_result"
    }
   ],
   "source": [
    "df['FOLLOWER_COUNT'].min()"
   ]
  },
  {
   "cell_type": "code",
   "execution_count": 16,
   "id": "a4e39569",
   "metadata": {},
   "outputs": [
    {
     "data": {
      "text/plain": [
       "24.0"
      ]
     },
     "execution_count": 16,
     "metadata": {},
     "output_type": "execute_result"
    }
   ],
   "source": [
    "df['FOLLOWER_COUNT'].median()"
   ]
  },
  {
   "cell_type": "code",
   "execution_count": 17,
   "id": "6270d81e",
   "metadata": {},
   "outputs": [
    {
     "data": {
      "text/plain": [
       "26.975241839967776"
      ]
     },
     "execution_count": 17,
     "metadata": {},
     "output_type": "execute_result"
    }
   ],
   "source": [
    "df['FOLLOWER_COUNT'].mean()"
   ]
  },
  {
   "cell_type": "code",
   "execution_count": 18,
   "id": "f45bb6fd",
   "metadata": {},
   "outputs": [
    {
     "data": {
      "text/plain": [
       "array([23., 46.,  2., 65., 70., 50.,  0., 55.,  3., 29.,  9., 64., 38.,\n",
       "       32., 45., 20.,  1., 54., 63., 17., 26., 39., 51., 48., 62., 25.,\n",
       "       10., 53., 59.,  8., 18., 66., 36., 56., 30., 14., 34.,  6.,  4.,\n",
       "       27., 49., 11., 24., 57., 42., 33., 21., 60., 15., 40., 43., 61.,\n",
       "       22., 67., 19., 69., 28., 13.,  7., 41., 52., 58., 37., 12., 31.,\n",
       "       68.,  5., 47., 16., 44., 35.])"
      ]
     },
     "execution_count": 18,
     "metadata": {},
     "output_type": "execute_result"
    }
   ],
   "source": [
    "df['FOLLOWER_COUNT'].unique()"
   ]
  },
  {
   "cell_type": "code",
   "execution_count": 19,
   "id": "961ea535",
   "metadata": {},
   "outputs": [
    {
     "data": {
      "image/png": "[encoded data removed]",
      "text/plain": [
       "<Figure size 640x480 with 1 Axes>"
      ]
     },
     "metadata": {},
     "output_type": "display_data"
    }
   ],
   "source": [
    "import matplotlib.pyplot as plt\n",
    "import numpy as np\n",
    "\n",
    "# Generate some random data\n",
    "# data = np.random.normal(50, 20, 1000)\n",
    "\n",
    "# Create the histogram\n",
    "plt.hist(df['FOLLOWER_COUNT'], bins=range(0, 80, 10))\n",
    "\n",
    "# Add some labels and a title\n",
    "plt.xlabel('Value')\n",
    "plt.ylabel('Frequency')\n",
    "plt.title('Histogram of Random Data Grouped by 10s')\n",
    "\n",
    "# Display the plot\n",
    "plt.show()\n"
   ]
  },
  {
   "cell_type": "code",
   "execution_count": 20,
   "id": "a47ce8b3",
   "metadata": {},
   "outputs": [],
   "source": [
    "\n",
    "def categorize_numbers(df, column_name):\n",
    "    \"\"\"\n",
    "    Given a Pandas DataFrame and the name of a column containing numbers,\n",
    "    categorize each number into one of three categories and add a new column\n",
    "    to the DataFrame containing the category.\n",
    "    \"\"\"\n",
    "    # Define the categories and their corresponding ranges\n",
    "    categories = ['0-10', '11-21', '22-32', '33-43', '44-54', '55-65','66-76']\n",
    "    ranges = [0, 10, 21, 32, 43, 54, 65, 76]\n",
    "    \n",
    "    # Use the `cut()` function to categorize the numbers and add the category to a new column\n",
    "    df['Category_FOLLOWER_COUNT'] = pd.cut(df[column_name], bins=ranges, labels=categories, include_lowest=True)\n",
    "    \n",
    "    # Return the modified DataFrame\n",
    "    return df\n"
   ]
  },
  {
   "cell_type": "code",
   "execution_count": 21,
   "id": "199773db",
   "metadata": {},
   "outputs": [],
   "source": [
    "# Example usage\n",
    "# df = pd.DataFrame({'Numbers': [10, 20, 30, 40, 50, 60, 70, 80, 90, 100]})\n",
    "df = categorize_numbers(df, 'FOLLOWER_COUNT')\n",
    "\n"
   ]
  },
  {
   "cell_type": "code",
   "execution_count": 22,
   "id": "c89c55a4",
   "metadata": {},
   "outputs": [],
   "source": [
    "df_follower_count = df[['FOLLOWER_COUNT','Category_FOLLOWER_COUNT']]"
   ]
  },
  {
   "cell_type": "code",
   "execution_count": 23,
   "id": "af02d25b",
   "metadata": {},
   "outputs": [
    {
     "name": "stdout",
     "output_type": "stream",
     "text": [
      "  Category   Count\n",
      "0     0-10  176744\n",
      "1    33-43   59509\n",
      "2    22-32   59200\n",
      "3    11-21   58994\n",
      "4    44-54   58858\n",
      "5    55-65   58782\n",
      "6    66-76   26900\n"
     ]
    }
   ],
   "source": [
    "# Count the unique values in the 'Category' column and create a new DataFrame\n",
    "value_counts = df_follower_count['Category_FOLLOWER_COUNT'].value_counts().reset_index()\n",
    "\n",
    "# Rename the columns of the new DataFrame\n",
    "value_counts.columns = ['Category', 'Count']\n",
    "\n",
    "# Print the new DataFrame\n",
    "print(value_counts)"
   ]
  },
  {
   "cell_type": "code",
   "execution_count": 24,
   "id": "84239138",
   "metadata": {},
   "outputs": [
    {
     "data": {
      "text/html": [
       "<div>\n",
       "<style scoped>\n",
       "    .dataframe tbody tr th:only-of-type {\n",
       "        vertical-align: middle;\n",
       "    }\n",
       "\n",
       "    .dataframe tbody tr th {\n",
       "        vertical-align: top;\n",
       "    }\n",
       "\n",
       "    .dataframe thead th {\n",
       "        text-align: right;\n",
       "    }\n",
       "</style>\n",
       "<table border=\"1\" class=\"dataframe\">\n",
       "  <thead>\n",
       "    <tr style=\"text-align: right;\">\n",
       "      <th></th>\n",
       "      <th>Category</th>\n",
       "      <th>Count</th>\n",
       "    </tr>\n",
       "  </thead>\n",
       "  <tbody>\n",
       "    <tr>\n",
       "      <th>0</th>\n",
       "      <td>0-10</td>\n",
       "      <td>176744</td>\n",
       "    </tr>\n",
       "    <tr>\n",
       "      <th>1</th>\n",
       "      <td>33-43</td>\n",
       "      <td>59509</td>\n",
       "    </tr>\n",
       "    <tr>\n",
       "      <th>2</th>\n",
       "      <td>22-32</td>\n",
       "      <td>59200</td>\n",
       "    </tr>\n",
       "    <tr>\n",
       "      <th>3</th>\n",
       "      <td>11-21</td>\n",
       "      <td>58994</td>\n",
       "    </tr>\n",
       "    <tr>\n",
       "      <th>4</th>\n",
       "      <td>44-54</td>\n",
       "      <td>58858</td>\n",
       "    </tr>\n",
       "    <tr>\n",
       "      <th>5</th>\n",
       "      <td>55-65</td>\n",
       "      <td>58782</td>\n",
       "    </tr>\n",
       "    <tr>\n",
       "      <th>6</th>\n",
       "      <td>66-76</td>\n",
       "      <td>26900</td>\n",
       "    </tr>\n",
       "  </tbody>\n",
       "</table>\n",
       "</div>"
      ],
      "text/plain": [
       "  Category   Count\n",
       "0     0-10  176744\n",
       "1    33-43   59509\n",
       "2    22-32   59200\n",
       "3    11-21   58994\n",
       "4    44-54   58858\n",
       "5    55-65   58782\n",
       "6    66-76   26900"
      ]
     },
     "execution_count": 24,
     "metadata": {},
     "output_type": "execute_result"
    }
   ],
   "source": [
    "value_counts"
   ]
  },
  {
   "cell_type": "code",
   "execution_count": 25,
   "id": "6f2c1f47",
   "metadata": {},
   "outputs": [
    {
     "data": {
      "image/png": "[encoded data removed]",
      "text/plain": [
       "<Figure size 640x480 with 1 Axes>"
      ]
     },
     "metadata": {},
     "output_type": "display_data"
    }
   ],
   "source": [
    "\n",
    "colors = ['red', 'blue', 'green', 'yellow', 'purple', 'grey', 'orange']\n",
    "plt.bar(value_counts['Category'], value_counts['Count'], color = colors)\n",
    "\n",
    "\n",
    "# Add some labels and a title\n",
    "plt.xlabel('Category')\n",
    "plt.ylabel('Count')\n",
    "plt.title('Barplot of Categories')\n",
    "\n",
    "# Display the plot\n",
    "plt.show()"
   ]
  },
  {
   "cell_type": "markdown",
   "id": "345ba8d7",
   "metadata": {},
   "source": [
    "### Data Set Information\n"
   ]
  },
  {
   "cell_type": "markdown",
   "id": "da90fc8e",
   "metadata": {},
   "source": [
    "The data set was gotten from kaggle.It contains information about BOT detection on Kaggle. Therefore the data was queried to determine which accounts were actually BOT in which there is a detailed account for the numbers of account that needs to be flaged for deletion if they are BOT\n"
   ]
  },
  {
   "cell_type": "markdown",
   "id": "63e1af41",
   "metadata": {},
   "source": [
    "### Data Analysis"
   ]
  },
  {
   "cell_type": "markdown",
   "id": "0d2c2b81",
   "metadata": {},
   "source": [
    "Data set was checked for Null values and since they are not required in the analysis, the null values were dropped.\n",
    "To determine which accounts were BOT. We used the follower count, This is the number of followers an account has. Most people will not follow a BOT account because they do not have interactions on posts\n",
    "\n",
    "The mean, median, mode, min, max and unique value of the follower count was checked for in this data set. And it was determined that the least categories of follower count was 0.\n",
    "Therefore the numbers were put in a range 0-10 11-21 furtehr till the max values in other to generate a chart of finding and also to put each into a range."
   ]
  },
  {
   "cell_type": "markdown",
   "id": "b2178b06",
   "metadata": {},
   "source": [
    "### Visualisation\n"
   ]
  },
  {
   "cell_type": "markdown",
   "id": "84d5d3eb",
   "metadata": {},
   "source": [
    "The dataset after been put in a range was matplotlib was used to graphically show the data"
   ]
  },
  {
   "cell_type": "code",
   "execution_count": null,
   "id": "05571cbf",
   "metadata": {},
   "outputs": [],
   "source": [
    "g"
   ]
  }
 ],
 "metadata": {
  "kernelspec": {
   "display_name": "Python 3 (ipykernel)",
   "language": "python",
   "name": "python3"
  },
  "language_info": {
   "codemirror_mode": {
    "name": "ipython",
    "version": 3
   },
   "file_extension": ".py",
   "mimetype": "text/x-python",
   "name": "python",
   "nbconvert_exporter": "python",
   "pygments_lexer": "ipython3",
   "version": "3.9.13"
  }
 },
 "nbformat": 4,
 "nbformat_minor": 5
}
